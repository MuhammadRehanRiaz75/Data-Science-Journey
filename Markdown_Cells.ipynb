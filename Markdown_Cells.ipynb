{
    "metadata": {
        "kernelspec": {
            "name": "python3",
            "display_name": "Python 3.11",
            "language": "python"
        },
        "language_info": {
            "name": "python",
            "version": "3.11.13",
            "mimetype": "text/x-python",
            "codemirror_mode": {
                "name": "ipython",
                "version": 3
            },
            "pygments_lexer": "ipython3",
            "nbconvert_exporter": "python",
            "file_extension": ".py"
        }
    },
    "nbformat_minor": 4,
    "nbformat": 4,
    "cells": [
        {
            "cell_type": "markdown",
            "source": "# My Jupyter Notebook on IBM watsonx.ai",
            "metadata": {
                "collapsed": true,
                "jupyter": {
                    "outputs_hidden": true
                }
            }
        },
        {
            "cell_type": "markdown",
            "source": "**Muhammad Rehan Riaz**\n\nI want to become a data scientist.",
            "metadata": {
                "id": "8e96439b-2051-43ce-b877-cd5e82604e36"
            }
        },
        {
            "cell_type": "markdown",
            "source": "***I want to become data scientist because I am good in mathematics.\nI love to work with Python.\nI am a good storyteller***",
            "metadata": {
                "id": "bb6ee0bb-2b1a-40ad-b9b8-9d94cf626158"
            }
        },
        {
            "cell_type": "markdown",
            "source": "### The code given below performs addition",
            "metadata": {
                "id": "2ea359d1-066f-4ab0-94e7-a8171ecc7cf5"
            }
        },
        {
            "cell_type": "code",
            "source": "a=10\nb=10\nprint(a+b)",
            "metadata": {
                "id": "c764c1c5-f157-44d9-85c4-26b11a059048"
            },
            "outputs": [
                {
                    "name": "stdout",
                    "text": "20\n",
                    "output_type": "stream"
                }
            ],
            "execution_count": 1
        },
        {
            "cell_type": "markdown",
            "source": "### This is an unordered list\n+ Python\n+ R\n+ SQL\n### This is an ordered list\n1. Jupyter Notebook\n2. RStudio\n3. Anaconda\n### This is an hyperlink\n[Google](www.google.com)\n### This is a table\n| Data Science |\n| ------------ |\n| Julia |\n| Scala |\n| C++ |",
            "metadata": {
                "id": "37ba64d9-a2b5-4062-8242-95c1bb7ac376"
            }
        },
        {
            "cell_type": "code",
            "source": "",
            "metadata": {
                "id": "428d4c1f-8f2e-4a27-bbf4-3402927465ce"
            },
            "outputs": [],
            "execution_count": null
        }
    ]
}